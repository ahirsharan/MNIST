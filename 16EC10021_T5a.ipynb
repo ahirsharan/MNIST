{
  "nbformat": 4,
  "nbformat_minor": 0,
  "metadata": {
    "colab": {
      "name": "16EC10021_T5a",
      "provenance": []
    },
    "kernelspec": {
      "name": "python3",
      "display_name": "Python 3"
    },
    "accelerator": "GPU"
  },
  "cells": [
    {
      "cell_type": "markdown",
      "metadata": {
        "id": "8ADg6rrYXs2s",
        "colab_type": "text"
      },
      "source": [
        "#LeNet5 on MNIST with SGD\n",
        "###Effect of training loss vs. Batch size for a fixed learning rate\n",
        "###Effect of training loss vs. Learning rate for a fixed Batch size"
      ]
    },
    {
      "cell_type": "code",
      "metadata": {
        "id": "AearOtHyjUEa",
        "colab_type": "code",
        "colab": {}
      },
      "source": [
        "%matplotlib inline\n",
        "import torch\n",
        "import numpy as np\n",
        "import torch.nn as nn\n",
        "import torch.nn.functional as F\n",
        "import matplotlib.pyplot as plt\n",
        "from torchvision import transforms, datasets\n",
        "import torch.optim as optim"
      ],
      "execution_count": 0,
      "outputs": []
    },
    {
      "cell_type": "code",
      "metadata": {
        "id": "sNH8svpgjont",
        "colab_type": "code",
        "colab": {}
      },
      "source": [
        "apply_transform = transforms.Compose([transforms.Resize(32), transforms.ToTensor()])\n",
        "BatchSize = 256 \n",
        "\n",
        "trainset = datasets.MNIST(root='./MNIST', train=True, download=True, transform=apply_transform)\n",
        "trainLoader = torch.utils.data.DataLoader(trainset, batch_size=BatchSize,\n",
        "                                          shuffle=True, num_workers=4) # Creating dataloader\n",
        "\n",
        "# Validation set with random rotations in the range {-90,90}\n",
        "testset = datasets.MNIST(root='./MNIST', train=False, download=True, transform=apply_transform)\n",
        "testLoader = torch.utils.data.DataLoader(testset, batch_size=BatchSize,\n",
        "                                         shuffle=False, num_workers=4) # Creating dataloader"
      ],
      "execution_count": 0,
      "outputs": []
    },
    {
      "cell_type": "code",
      "metadata": {
        "id": "VLTm6r-ajpIR",
        "colab_type": "code",
        "outputId": "e1bb949c-e71f-466d-fdb0-2fc67fd3e635",
        "colab": {
          "base_uri": "https://localhost:8080/",
          "height": 51
        }
      },
      "source": [
        "# Size of train and test datasets\n",
        "print('No. of samples in train set: '+str(len(trainLoader.dataset)))\n",
        "print('No. of samples in test set: '+str(len(testLoader.dataset)))"
      ],
      "execution_count": 3,
      "outputs": [
        {
          "output_type": "stream",
          "text": [
            "No. of samples in train set: 60000\n",
            "No. of samples in test set: 10000\n"
          ],
          "name": "stdout"
        }
      ]
    },
    {
      "cell_type": "code",
      "metadata": {
        "id": "7s5dGxyHjrWg",
        "colab_type": "code",
        "colab": {}
      },
      "source": [
        "class LeNet(nn.Module):\n",
        "    def __init__(self):\n",
        "        super(LeNet, self).__init__()\n",
        "        self.conv1 = nn.Conv2d(1, 6, kernel_size=5)\n",
        "        self.pool1 = nn.MaxPool2d(kernel_size=2,stride=2)\n",
        "        self.conv2 = nn.Conv2d(6, 16, kernel_size=5)\n",
        "        self.pool2 = nn.MaxPool2d(kernel_size=2,stride=2)        \n",
        "        self.fc1 = nn.Linear(400, 120)\n",
        "        self.fc2 = nn.Linear(120, 84)\n",
        "        self.fc3 = nn.Linear(84, 10)\n",
        "\n",
        "    def forward(self, x):\n",
        "        x = F.relu(self.conv1(x))\n",
        "        x = self.pool1(x)\n",
        "        x = F.relu(self.conv2(x))\n",
        "        x = self.pool2(x)\n",
        "        x = x.view(-1, 400)\n",
        "        x = F.relu(self.fc1(x)) \n",
        "        x = F.relu(self.fc2(x))\n",
        "        x = self.fc3(x)\n",
        "        return F.log_softmax(x,dim=1)"
      ],
      "execution_count": 0,
      "outputs": []
    },
    {
      "cell_type": "code",
      "metadata": {
        "id": "4jzouJxzjuZI",
        "colab_type": "code",
        "outputId": "aa49f88d-4803-4fe5-aad3-cdcf3a05388a",
        "colab": {
          "base_uri": "https://localhost:8080/",
          "height": 187
        }
      },
      "source": [
        "use_gpu = torch.cuda.is_available()\n",
        "net = LeNet()\n",
        "print(net)\n",
        "if use_gpu:\n",
        "    print('GPU is available!')\n",
        "    net = net.cuda()"
      ],
      "execution_count": 5,
      "outputs": [
        {
          "output_type": "stream",
          "text": [
            "LeNet(\n",
            "  (conv1): Conv2d(1, 6, kernel_size=(5, 5), stride=(1, 1))\n",
            "  (pool1): MaxPool2d(kernel_size=2, stride=2, padding=0, dilation=1, ceil_mode=False)\n",
            "  (conv2): Conv2d(6, 16, kernel_size=(5, 5), stride=(1, 1))\n",
            "  (pool2): MaxPool2d(kernel_size=2, stride=2, padding=0, dilation=1, ceil_mode=False)\n",
            "  (fc1): Linear(in_features=400, out_features=120, bias=True)\n",
            "  (fc2): Linear(in_features=120, out_features=84, bias=True)\n",
            "  (fc3): Linear(in_features=84, out_features=10, bias=True)\n",
            ")\n",
            "GPU is available!\n"
          ],
          "name": "stdout"
        }
      ]
    },
    {
      "cell_type": "code",
      "metadata": {
        "id": "GzG3F9YTjzlY",
        "colab_type": "code",
        "outputId": "d184a3b2-cefc-435f-c9b0-cdc18517f57d",
        "colab": {
          "base_uri": "https://localhost:8080/",
          "height": 1000
        }
      },
      "source": [
        "#FIXED LEARNING RATE\n",
        "from cycler import cycler\n",
        "\n",
        "num_epochs = 10\n",
        "BatchSize = 50\n",
        "\n",
        "fig = plt.figure(figsize=[15,5]) \n",
        "\n",
        "for k in range(5):\n",
        "    net = LeNet()\n",
        "    criterion = nn.CrossEntropyLoss()\n",
        "\n",
        "    optimizer = optim.SGD(net.parameters(), lr=0.25)\n",
        "    learning_rate = 0.1\n",
        "    train_loss = []\n",
        "    train_acc = []\n",
        "    \n",
        "    \n",
        "    apply_transform = transforms.Compose([transforms.Resize(32), transforms.ToTensor()])\n",
        "    BatchSize = BatchSize*2 \n",
        "\n",
        "    trainset = datasets.MNIST(root='./MNIST', train=True, download=True, transform=apply_transform)\n",
        "    trainLoader = torch.utils.data.DataLoader(trainset, batch_size=BatchSize,\n",
        "                                          shuffle=True, num_workers=4) # Creating dataloader\n",
        "\n",
        "# Validation set with random rotations in the range [-90,90]\n",
        "    testset = datasets.MNIST(root='./MNIST', train=False, download=True, transform=apply_transform)\n",
        "    testLoader = torch.utils.data.DataLoader(testset, batch_size=BatchSize,\n",
        "                                         shuffle=False, num_workers=4) # Creating dataloader\n",
        "    \n",
        "    for epoch in range(num_epochs):\n",
        "    \n",
        "        running_loss = 0.0 \n",
        "        running_corr = 0\n",
        "        \n",
        "        for i,data in enumerate(trainLoader):\n",
        "            inputs,labels = data\n",
        "            \n",
        "        # Initializing model gradients to zero\n",
        "            optimizer.zero_grad() \n",
        "        # Data feed-forward through the network\n",
        "            outputs = net(inputs)\n",
        "        # Predicted class is the one with maximum probability\n",
        "            preds = torch.argmax(outputs,dim=1)\n",
        "        # Finding the loss\n",
        "            loss = criterion(outputs, labels)\n",
        "        # Accumulating the loss for each batch\n",
        "            running_loss += loss \n",
        "        # Accumulate number of correct predictions\n",
        "            running_corr += torch.sum(preds==labels)    \n",
        "            loss.backward()\n",
        "            optimizer.step()\n",
        "    \n",
        "        # Updating the model parameters\n",
        "        epoch_loss = running_loss.item()/(i+1)   #Total loss for one epoch\n",
        "        epoch_acc = running_corr.item()/60000\n",
        "    \n",
        "        train_loss.append(epoch_loss) \n",
        "        train_acc.append(epoch_acc) \n",
        "        print('Epoch {:.0f}/{:.0f} : Training loss: {:.4f} | Training Accuracy: {:.4f}'.format(epoch+1,num_epochs,epoch_loss,epoch_acc*100))       \n",
        "        \n",
        "    plt.rc('axes', prop_cycle=(cycler('color', ['r', 'g', 'b','c','m','y','k','w'])))\n",
        "    plt.plot(range(num_epochs),train_loss,label='Batchsize ={:.0f}'.format(BatchSize)) \n",
        "    plt.legend(loc='upper right')\n",
        "    plt.xlabel('Epochs')\n",
        "    plt.ylabel('Training')\n",
        "    plt.title(\"Fixed LR= 0.25\")\n",
        "    \n",
        "plt.show()\n",
        "        \n"
      ],
      "execution_count": 6,
      "outputs": [
        {
          "output_type": "stream",
          "text": [
            "Epoch 1/10 : Training loss: 0.4751 | Training Accuracy: 84.2433\n",
            "Epoch 2/10 : Training loss: 0.0717 | Training Accuracy: 97.8017\n",
            "Epoch 3/10 : Training loss: 0.0486 | Training Accuracy: 98.5067\n",
            "Epoch 4/10 : Training loss: 0.0386 | Training Accuracy: 98.7817\n",
            "Epoch 5/10 : Training loss: 0.0304 | Training Accuracy: 99.0650\n",
            "Epoch 6/10 : Training loss: 0.0269 | Training Accuracy: 99.1233\n",
            "Epoch 7/10 : Training loss: 0.0210 | Training Accuracy: 99.3283\n",
            "Epoch 8/10 : Training loss: 0.0183 | Training Accuracy: 99.4217\n",
            "Epoch 9/10 : Training loss: 0.0148 | Training Accuracy: 99.5267\n",
            "Epoch 10/10 : Training loss: 0.0134 | Training Accuracy: 99.5767\n",
            "Epoch 1/10 : Training loss: 1.1406 | Training Accuracy: 62.0433\n",
            "Epoch 2/10 : Training loss: 0.1246 | Training Accuracy: 96.0667\n",
            "Epoch 3/10 : Training loss: 0.0766 | Training Accuracy: 97.5433\n",
            "Epoch 4/10 : Training loss: 0.0585 | Training Accuracy: 98.1317\n",
            "Epoch 5/10 : Training loss: 0.0465 | Training Accuracy: 98.5367\n",
            "Epoch 6/10 : Training loss: 0.0409 | Training Accuracy: 98.7267\n",
            "Epoch 7/10 : Training loss: 0.0362 | Training Accuracy: 98.8250\n",
            "Epoch 8/10 : Training loss: 0.0308 | Training Accuracy: 98.9833\n",
            "Epoch 9/10 : Training loss: 0.0286 | Training Accuracy: 99.0717\n",
            "Epoch 10/10 : Training loss: 0.0255 | Training Accuracy: 99.1717\n",
            "Epoch 1/10 : Training loss: 1.4886 | Training Accuracy: 51.8733\n",
            "Epoch 2/10 : Training loss: 0.1989 | Training Accuracy: 93.7517\n",
            "Epoch 3/10 : Training loss: 0.1264 | Training Accuracy: 96.0333\n",
            "Epoch 4/10 : Training loss: 0.0899 | Training Accuracy: 97.1333\n",
            "Epoch 5/10 : Training loss: 0.1006 | Training Accuracy: 97.0167\n",
            "Epoch 6/10 : Training loss: 0.0655 | Training Accuracy: 97.9550\n",
            "Epoch 7/10 : Training loss: 0.0556 | Training Accuracy: 98.2250\n",
            "Epoch 8/10 : Training loss: 0.0477 | Training Accuracy: 98.4867\n",
            "Epoch 9/10 : Training loss: 0.0433 | Training Accuracy: 98.6167\n",
            "Epoch 10/10 : Training loss: 0.0391 | Training Accuracy: 98.7567\n",
            "Epoch 1/10 : Training loss: 2.0211 | Training Accuracy: 31.8133\n",
            "Epoch 2/10 : Training loss: 0.4092 | Training Accuracy: 86.6667\n",
            "Epoch 3/10 : Training loss: 0.1619 | Training Accuracy: 94.9383\n",
            "Epoch 4/10 : Training loss: 0.1040 | Training Accuracy: 96.7400\n",
            "Epoch 5/10 : Training loss: 0.1219 | Training Accuracy: 96.2667\n",
            "Epoch 6/10 : Training loss: 0.0841 | Training Accuracy: 97.4250\n",
            "Epoch 7/10 : Training loss: 0.0626 | Training Accuracy: 98.0750\n",
            "Epoch 8/10 : Training loss: 0.0553 | Training Accuracy: 98.2700\n",
            "Epoch 9/10 : Training loss: 0.0497 | Training Accuracy: 98.4600\n",
            "Epoch 10/10 : Training loss: 0.0448 | Training Accuracy: 98.5750\n",
            "Epoch 1/10 : Training loss: 2.2389 | Training Accuracy: 23.2450\n",
            "Epoch 2/10 : Training loss: 2.0035 | Training Accuracy: 37.2983\n",
            "Epoch 3/10 : Training loss: 1.1876 | Training Accuracy: 62.0700\n",
            "Epoch 4/10 : Training loss: 0.4110 | Training Accuracy: 86.5550\n",
            "Epoch 5/10 : Training loss: 0.2395 | Training Accuracy: 92.2783\n",
            "Epoch 6/10 : Training loss: 0.1585 | Training Accuracy: 95.0350\n",
            "Epoch 7/10 : Training loss: 0.1808 | Training Accuracy: 94.2883\n",
            "Epoch 8/10 : Training loss: 0.1110 | Training Accuracy: 96.5167\n",
            "Epoch 9/10 : Training loss: 0.1850 | Training Accuracy: 94.2150\n",
            "Epoch 10/10 : Training loss: 0.0946 | Training Accuracy: 97.0050\n"
          ],
          "name": "stdout"
        },
        {
          "output_type": "display_data",
          "data": {
            "image/png": "[encoded data removed]",
            "text/plain": [
              "<Figure size 1080x360 with 1 Axes>"
            ]
          },
          "metadata": {
            "tags": []
          }
        }
      ]
    },
    {
      "cell_type": "code",
      "metadata": {
        "id": "K2VD-cwuxeY6",
        "colab_type": "code",
        "outputId": "e9032725-a869-4820-9f3d-d52bf77ae329",
        "colab": {
          "base_uri": "https://localhost:8080/",
          "height": 1000
        }
      },
      "source": [
        "#FIXED BATCH SIZE\n",
        "\n",
        "from cycler import cycler\n",
        "\n",
        "num_epochs = 10\n",
        "BatchSize = 100\n",
        "learn = 0.05\n",
        "fig = plt.figure(figsize=[15,5]) \n",
        "\n",
        "for k in range(5):\n",
        "    net = LeNet()\n",
        "    criterion = nn.CrossEntropyLoss()\n",
        "\n",
        "    optimizer = optim.SGD(net.parameters(), lr=learn)\n",
        "    learn = learn + 0.05\n",
        "    learning_rate = 0.1\n",
        "    train_loss = []\n",
        "    train_acc = []\n",
        "    \n",
        "    \n",
        "    apply_transform = transforms.Compose([transforms.Resize(32), transforms.ToTensor()])\n",
        "     # change according to system specs\n",
        "\n",
        "    trainset = datasets.MNIST(root='./MNIST', train=True, download=True, transform=apply_transform)\n",
        "    trainLoader = torch.utils.data.DataLoader(trainset, batch_size=BatchSize,\n",
        "                                          shuffle=True, num_workers=4) # Creating dataloader\n",
        "\n",
        "# Validation set with random rotations in the range [-90,90]\n",
        "    testset = datasets.MNIST(root='./MNIST', train=False, download=True, transform=apply_transform)\n",
        "    testLoader = torch.utils.data.DataLoader(testset, batch_size=BatchSize,\n",
        "                                         shuffle=False, num_workers=4) # Creating dataloader\n",
        "    \n",
        "    for epoch in range(num_epochs):\n",
        "    \n",
        "        running_loss = 0.0 \n",
        "        running_corr = 0\n",
        "        \n",
        "        for i,data in enumerate(trainLoader):\n",
        "            inputs,labels = data\n",
        "\n",
        "        # Initializing model gradients to zero\n",
        "            optimizer.zero_grad() \n",
        "        \n",
        "        # Data feed-forward through the network\n",
        "            outputs = net(inputs)\n",
        "        # Predicted class is the one with maximum probability\n",
        "            preds = torch.argmax(outputs,dim=1)\n",
        "        # Finding the loss\n",
        "            loss = criterion(outputs, labels)\n",
        "        # Accumulating the loss for each batch\n",
        "            running_loss += loss \n",
        "        # Accumulate number of correct predictions\n",
        "            running_corr += torch.sum(preds==labels)    \n",
        "            loss.backward()\n",
        "            optimizer.step()\n",
        "        \n",
        "    \n",
        "    # Calculating gradients\n",
        "    \n",
        "    # Updating the model parameters\n",
        "    \n",
        "        \n",
        "        epoch_loss = running_loss.item()/(i+1)   #Total loss for one epoch\n",
        "        epoch_acc = running_corr.item()/60000\n",
        "\n",
        "        train_loss.append(epoch_loss) \n",
        "        train_acc.append(epoch_acc) \n",
        "        print('Epoch {:.0f}/{:.0f} : Training loss: {:.4f} | Training Accuracy: {:.4f}'.format(epoch+1,num_epochs,epoch_loss,epoch_acc*100))       \n",
        "        \n",
        "    plt.rc('axes', prop_cycle=(cycler('color', ['r', 'g', 'b','c','m','y','k','w'])))\n",
        "    plt.plot(range(num_epochs),train_loss,label='LR ={:.000f}'.format(learn)) \n",
        "    plt.legend(loc='upper right')\n",
        "    plt.xlabel('Epochs')\n",
        "    plt.ylabel('Training loss')\n",
        "    plt.title(\"Fixed batchsize = 100\")\n",
        "plt.show()\n"
      ],
      "execution_count": 7,
      "outputs": [
        {
          "output_type": "stream",
          "text": [
            "Epoch 1/10 : Training loss: 1.1575 | Training Accuracy: 59.7867\n",
            "Epoch 2/10 : Training loss: 0.1559 | Training Accuracy: 95.0933\n",
            "Epoch 3/10 : Training loss: 0.0982 | Training Accuracy: 96.9450\n",
            "Epoch 4/10 : Training loss: 0.0749 | Training Accuracy: 97.7350\n",
            "Epoch 5/10 : Training loss: 0.0632 | Training Accuracy: 98.0400\n",
            "Epoch 6/10 : Training loss: 0.0536 | Training Accuracy: 98.3533\n",
            "Epoch 7/10 : Training loss: 0.0473 | Training Accuracy: 98.5367\n",
            "Epoch 8/10 : Training loss: 0.0417 | Training Accuracy: 98.7150\n",
            "Epoch 9/10 : Training loss: 0.0368 | Training Accuracy: 98.7933\n",
            "Epoch 10/10 : Training loss: 0.0336 | Training Accuracy: 98.9033\n",
            "Epoch 1/10 : Training loss: 0.7019 | Training Accuracy: 76.1567\n",
            "Epoch 2/10 : Training loss: 0.1013 | Training Accuracy: 96.7683\n",
            "Epoch 3/10 : Training loss: 0.0687 | Training Accuracy: 97.8250\n",
            "Epoch 4/10 : Training loss: 0.0531 | Training Accuracy: 98.3583\n",
            "Epoch 5/10 : Training loss: 0.0446 | Training Accuracy: 98.6283\n",
            "Epoch 6/10 : Training loss: 0.0385 | Training Accuracy: 98.8250\n",
            "Epoch 7/10 : Training loss: 0.0318 | Training Accuracy: 98.9733\n",
            "Epoch 8/10 : Training loss: 0.0283 | Training Accuracy: 99.0733\n",
            "Epoch 9/10 : Training loss: 0.0236 | Training Accuracy: 99.2383\n",
            "Epoch 10/10 : Training loss: 0.0209 | Training Accuracy: 99.3400\n",
            "Epoch 1/10 : Training loss: 0.6748 | Training Accuracy: 77.6933\n",
            "Epoch 2/10 : Training loss: 0.0864 | Training Accuracy: 97.3333\n",
            "Epoch 3/10 : Training loss: 0.0595 | Training Accuracy: 98.1300\n",
            "Epoch 4/10 : Training loss: 0.0467 | Training Accuracy: 98.5267\n",
            "Epoch 5/10 : Training loss: 0.0388 | Training Accuracy: 98.8117\n",
            "Epoch 6/10 : Training loss: 0.0325 | Training Accuracy: 98.9733\n",
            "Epoch 7/10 : Training loss: 0.0278 | Training Accuracy: 99.1033\n",
            "Epoch 8/10 : Training loss: 0.0236 | Training Accuracy: 99.2667\n",
            "Epoch 9/10 : Training loss: 0.0231 | Training Accuracy: 99.2283\n",
            "Epoch 10/10 : Training loss: 0.0182 | Training Accuracy: 99.3967\n",
            "Epoch 1/10 : Training loss: 0.4587 | Training Accuracy: 84.3350\n",
            "Epoch 2/10 : Training loss: 0.0683 | Training Accuracy: 97.9217\n",
            "Epoch 3/10 : Training loss: 0.0481 | Training Accuracy: 98.5017\n",
            "Epoch 4/10 : Training loss: 0.0377 | Training Accuracy: 98.7750\n",
            "Epoch 5/10 : Training loss: 0.0312 | Training Accuracy: 99.0267\n",
            "Epoch 6/10 : Training loss: 0.0251 | Training Accuracy: 99.1750\n",
            "Epoch 7/10 : Training loss: 0.0216 | Training Accuracy: 99.3083\n",
            "Epoch 8/10 : Training loss: 0.0186 | Training Accuracy: 99.4083\n",
            "Epoch 9/10 : Training loss: 0.0169 | Training Accuracy: 99.4733\n",
            "Epoch 10/10 : Training loss: 0.0141 | Training Accuracy: 99.5383\n",
            "Epoch 1/10 : Training loss: 0.5341 | Training Accuracy: 82.5733\n",
            "Epoch 2/10 : Training loss: 0.0860 | Training Accuracy: 97.2717\n",
            "Epoch 3/10 : Training loss: 0.0588 | Training Accuracy: 98.1733\n",
            "Epoch 4/10 : Training loss: 0.0458 | Training Accuracy: 98.5833\n",
            "Epoch 5/10 : Training loss: 0.0385 | Training Accuracy: 98.7867\n",
            "Epoch 6/10 : Training loss: 0.0320 | Training Accuracy: 99.0167\n",
            "Epoch 7/10 : Training loss: 0.0281 | Training Accuracy: 99.1083\n",
            "Epoch 8/10 : Training loss: 0.0242 | Training Accuracy: 99.2200\n",
            "Epoch 9/10 : Training loss: 0.0204 | Training Accuracy: 99.3283\n",
            "Epoch 10/10 : Training loss: 0.0195 | Training Accuracy: 99.3700\n"
          ],
          "name": "stdout"
        },
        {
          "output_type": "display_data",
          "data": {
            "image/png": "[encoded data removed]",
            "text/plain": [
              "<Figure size 1080x360 with 1 Axes>"
            ]
          },
          "metadata": {
            "tags": []
          }
        }
      ]
    },
    {
      "cell_type": "code",
      "metadata": {
        "id": "7JPLL_8DQCLr",
        "colab_type": "code",
        "colab": {}
      },
      "source": [
        ""
      ],
      "execution_count": 0,
      "outputs": []
    }
  ]
}