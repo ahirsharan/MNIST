{
  "nbformat": 4,
  "nbformat_minor": 0,
  "metadata": {
    "colab": {
      "name": "16EC10021_T5b.ipynb",
      "provenance": []
    },
    "kernelspec": {
      "name": "python3",
      "display_name": "Python 3"
    },
    "accelerator": "GPU"
  },
  "cells": [
    {
      "cell_type": "markdown",
      "metadata": {
        "id": "OmZr-AypNYGn",
        "colab_type": "text"
      },
      "source": [
        "#AI61002_Spr2020\n",
        "#LeNet5 on MNIST with Adam"
      ]
    },
    {
      "cell_type": "code",
      "metadata": {
        "id": "bBBqSJ6DoOru",
        "colab_type": "code",
        "colab": {}
      },
      "source": [
        "%matplotlib inline\n",
        "import torch\n",
        "import numpy as np\n",
        "import torch.nn as nn\n",
        "import torch.nn.functional as F\n",
        "import matplotlib.pyplot as plt\n",
        "from torchvision import transforms, datasets\n",
        "import torch.optim as optim\n"
      ],
      "execution_count": 0,
      "outputs": []
    },
    {
      "cell_type": "code",
      "metadata": {
        "id": "eMq6y3MSoTnK",
        "colab_type": "code",
        "colab": {}
      },
      "source": [
        "apply_transform = transforms.Compose([transforms.Resize(32), transforms.ToTensor()])\n",
        "BatchSize = 256 # change according to system specs\n",
        "\n",
        "trainset = datasets.MNIST(root='./MNIST', train=True, download=True, transform=apply_transform)\n",
        "trainLoader = torch.utils.data.DataLoader(trainset, batch_size=BatchSize,\n",
        "                                          shuffle=True, num_workers=4) # Creating dataloader\n",
        "\n",
        "# Validation set with random rotations in the range [-90,90]\n",
        "testset = datasets.MNIST(root='./MNIST', train=False, download=True, transform=apply_transform)\n",
        "testLoader = torch.utils.data.DataLoader(testset, batch_size=BatchSize,\n",
        "                                         shuffle=False, num_workers=4) # Creating dataloader"
      ],
      "execution_count": 0,
      "outputs": []
    },
    {
      "cell_type": "code",
      "metadata": {
        "id": "cgKF_VppoWV9",
        "colab_type": "code",
        "outputId": "b3235d7f-55fc-4b03-e69a-38a88816accc",
        "colab": {
          "base_uri": "https://localhost:8080/",
          "height": 51
        }
      },
      "source": [
        "# Size of train and test datasets\n",
        "print('No. of samples in train set: '+str(len(trainLoader.dataset)))\n",
        "print('No. of samples in test set: '+str(len(testLoader.dataset)))"
      ],
      "execution_count": 3,
      "outputs": [
        {
          "output_type": "stream",
          "text": [
            "No. of samples in train set: 60000\n",
            "No. of samples in test set: 10000\n"
          ],
          "name": "stdout"
        }
      ]
    },
    {
      "cell_type": "code",
      "metadata": {
        "id": "eguj2BqxoiJ6",
        "colab_type": "code",
        "colab": {}
      },
      "source": [
        "class LeNet(nn.Module):\n",
        "    def __init__(self):\n",
        "        super(LeNet, self).__init__()\n",
        "        self.conv1 = nn.Conv2d(1, 6, kernel_size=5)\n",
        "        self.pool1 = nn.MaxPool2d(kernel_size=2,stride=2)\n",
        "        self.conv2 = nn.Conv2d(6, 16, kernel_size=5)\n",
        "        self.pool2 = nn.MaxPool2d(kernel_size=2,stride=2)        \n",
        "        self.fc1 = nn.Linear(400, 120)\n",
        "        self.fc2 = nn.Linear(120, 84)\n",
        "        self.fc3 = nn.Linear(84, 10)\n",
        "\n",
        "    def forward(self, x):\n",
        "        x = F.relu(self.conv1(x))\n",
        "        x = self.pool1(x)\n",
        "        x = F.relu(self.conv2(x))\n",
        "        x = self.pool2(x)\n",
        "        x = x.view(-1, 400)\n",
        "        x = F.relu(self.fc1(x)) \n",
        "        x = F.relu(self.fc2(x))\n",
        "        x = self.fc3(x)\n",
        "        return F.log_softmax(x,dim=1)"
      ],
      "execution_count": 0,
      "outputs": []
    },
    {
      "cell_type": "code",
      "metadata": {
        "id": "Z2OtgBfPpCHm",
        "colab_type": "code",
        "outputId": "65330970-a9e0-4b00-e9a0-520778064dc8",
        "colab": {
          "base_uri": "https://localhost:8080/",
          "height": 187
        }
      },
      "source": [
        "use_gpu = torch.cuda.is_available()\n",
        "net = LeNet()\n",
        "print(net)\n",
        "if use_gpu:\n",
        "    print('GPU is available!')\n",
        "    net = net.cuda()"
      ],
      "execution_count": 5,
      "outputs": [
        {
          "output_type": "stream",
          "text": [
            "LeNet(\n",
            "  (conv1): Conv2d(1, 6, kernel_size=(5, 5), stride=(1, 1))\n",
            "  (pool1): MaxPool2d(kernel_size=2, stride=2, padding=0, dilation=1, ceil_mode=False)\n",
            "  (conv2): Conv2d(6, 16, kernel_size=(5, 5), stride=(1, 1))\n",
            "  (pool2): MaxPool2d(kernel_size=2, stride=2, padding=0, dilation=1, ceil_mode=False)\n",
            "  (fc1): Linear(in_features=400, out_features=120, bias=True)\n",
            "  (fc2): Linear(in_features=120, out_features=84, bias=True)\n",
            "  (fc3): Linear(in_features=84, out_features=10, bias=True)\n",
            ")\n",
            "GPU is available!\n"
          ],
          "name": "stdout"
        }
      ]
    },
    {
      "cell_type": "code",
      "metadata": {
        "id": "UKZmy5mJpEji",
        "colab_type": "code",
        "outputId": "e0ae609e-d320-4a68-ff2b-b06dcff47b15",
        "colab": {
          "base_uri": "https://localhost:8080/",
          "height": 867
        }
      },
      "source": [
        "criterion = nn.CrossEntropyLoss()\n",
        "\n",
        "optimizer = optim.Adam(net.parameters(), lr=0.2)\n",
        "learning_rate = 0.1\n",
        "num_epochs = 50\n",
        "\n",
        "train_loss = []\n",
        "train_acc = []\n",
        "for epoch in range(num_epochs):\n",
        "    \n",
        "    running_loss = 0.0 \n",
        "    running_corr = 0\n",
        "        \n",
        "    for i,data in enumerate(trainLoader):\n",
        "        inputs,labels = data\n",
        "        if use_gpu:\n",
        "            inputs, labels = inputs.cuda(),labels.cuda() \n",
        "        # Initializing model gradients to zero\n",
        "        optimizer.zero_grad() \n",
        "        \n",
        "        # Data feed-forward through the network\n",
        "        outputs = net(inputs)\n",
        "        # Predicted class is the one with maximum probability\n",
        "        preds = torch.argmax(outputs,dim=1)\n",
        "        # Finding the loss\n",
        "        loss = criterion(outputs, labels)\n",
        "        # Accumulating the loss for each batch\n",
        "        running_loss += loss \n",
        "        # Accumulate number of correct predictions\n",
        "        running_corr += torch.sum(preds==labels)    \n",
        "        loss.backward()\n",
        "        optimizer.step()\n",
        "        \n",
        "    \n",
        "    # Calculating gradients\n",
        "    \n",
        "    # Updating the model parameters\n",
        "    \n",
        "        \n",
        "    epoch_loss = running_loss.item()/(i+1)   #Total loss for one epoch\n",
        "    epoch_acc = running_corr.item()/60000\n",
        "    \n",
        "    \n",
        "         \n",
        "    train_loss.append(epoch_loss) #Saving the loss over epochs for plotting the graph\n",
        "    train_acc.append(epoch_acc) #Saving the accuracy over epochs for plotting the graph\n",
        "       \n",
        "        \n",
        "    print('Epoch {:.0f}/{:.0f} : Training loss: {:.4f} | Training Accuracy: {:.4f}'.format(epoch+1,num_epochs,epoch_loss,epoch_acc*100))             "
      ],
      "execution_count": 6,
      "outputs": [
        {
          "output_type": "stream",
          "text": [
            "Epoch 1/50 : Training loss: 12.5734 | Training Accuracy: 10.5950\n",
            "Epoch 2/50 : Training loss: 2.3073 | Training Accuracy: 10.4433\n",
            "Epoch 3/50 : Training loss: 2.3083 | Training Accuracy: 10.2000\n",
            "Epoch 4/50 : Training loss: 2.3102 | Training Accuracy: 10.2733\n",
            "Epoch 5/50 : Training loss: 2.3087 | Training Accuracy: 10.5850\n",
            "Epoch 6/50 : Training loss: 2.3089 | Training Accuracy: 10.4283\n",
            "Epoch 7/50 : Training loss: 2.3079 | Training Accuracy: 10.3367\n",
            "Epoch 8/50 : Training loss: 2.3084 | Training Accuracy: 10.3700\n",
            "Epoch 9/50 : Training loss: 2.3086 | Training Accuracy: 10.3233\n",
            "Epoch 10/50 : Training loss: 2.3080 | Training Accuracy: 10.5000\n",
            "Epoch 11/50 : Training loss: 2.3082 | Training Accuracy: 10.4283\n",
            "Epoch 12/50 : Training loss: 2.3097 | Training Accuracy: 10.3567\n",
            "Epoch 13/50 : Training loss: 2.3089 | Training Accuracy: 10.2583\n",
            "Epoch 14/50 : Training loss: 2.3088 | Training Accuracy: 10.2283\n",
            "Epoch 15/50 : Training loss: 2.3089 | Training Accuracy: 10.4917\n",
            "Epoch 16/50 : Training loss: 2.3092 | Training Accuracy: 10.2933\n",
            "Epoch 17/50 : Training loss: 2.3095 | Training Accuracy: 10.5283\n",
            "Epoch 18/50 : Training loss: 2.3091 | Training Accuracy: 10.4217\n",
            "Epoch 19/50 : Training loss: 2.3105 | Training Accuracy: 10.4933\n",
            "Epoch 20/50 : Training loss: 2.3094 | Training Accuracy: 10.2783\n",
            "Epoch 21/50 : Training loss: 2.3097 | Training Accuracy: 10.1283\n",
            "Epoch 22/50 : Training loss: 2.3092 | Training Accuracy: 10.2700\n",
            "Epoch 23/50 : Training loss: 2.3107 | Training Accuracy: 10.4133\n",
            "Epoch 24/50 : Training loss: 2.3082 | Training Accuracy: 10.5700\n",
            "Epoch 25/50 : Training loss: 2.3089 | Training Accuracy: 10.1767\n",
            "Epoch 26/50 : Training loss: 2.3092 | Training Accuracy: 10.3050\n",
            "Epoch 27/50 : Training loss: 2.3094 | Training Accuracy: 10.3933\n",
            "Epoch 28/50 : Training loss: 2.3088 | Training Accuracy: 10.1617\n",
            "Epoch 29/50 : Training loss: 2.3100 | Training Accuracy: 10.1700\n",
            "Epoch 30/50 : Training loss: 2.3076 | Training Accuracy: 10.6017\n",
            "Epoch 31/50 : Training loss: 2.3096 | Training Accuracy: 10.3983\n",
            "Epoch 32/50 : Training loss: 2.3083 | Training Accuracy: 10.4450\n",
            "Epoch 33/50 : Training loss: 2.3110 | Training Accuracy: 10.1867\n",
            "Epoch 34/50 : Training loss: 2.3085 | Training Accuracy: 10.4650\n",
            "Epoch 35/50 : Training loss: 2.3086 | Training Accuracy: 10.4233\n",
            "Epoch 36/50 : Training loss: 2.3099 | Training Accuracy: 10.2467\n",
            "Epoch 37/50 : Training loss: 2.3082 | Training Accuracy: 10.5433\n",
            "Epoch 38/50 : Training loss: 2.3090 | Training Accuracy: 10.6133\n",
            "Epoch 39/50 : Training loss: 2.3080 | Training Accuracy: 10.3500\n",
            "Epoch 40/50 : Training loss: 2.3088 | Training Accuracy: 10.4733\n",
            "Epoch 41/50 : Training loss: 2.3097 | Training Accuracy: 10.2383\n",
            "Epoch 42/50 : Training loss: 2.3088 | Training Accuracy: 10.3317\n",
            "Epoch 43/50 : Training loss: 2.3086 | Training Accuracy: 10.3083\n",
            "Epoch 44/50 : Training loss: 2.3096 | Training Accuracy: 10.2717\n",
            "Epoch 45/50 : Training loss: 2.3112 | Training Accuracy: 10.3517\n",
            "Epoch 46/50 : Training loss: 2.3085 | Training Accuracy: 10.4117\n",
            "Epoch 47/50 : Training loss: 2.3089 | Training Accuracy: 10.3867\n",
            "Epoch 48/50 : Training loss: 2.3093 | Training Accuracy: 10.5117\n",
            "Epoch 49/50 : Training loss: 2.3104 | Training Accuracy: 10.3367\n",
            "Epoch 50/50 : Training loss: 2.3094 | Training Accuracy: 10.3417\n"
          ],
          "name": "stdout"
        }
      ]
    },
    {
      "cell_type": "code",
      "metadata": {
        "id": "Y8JL2rIGq6yv",
        "colab_type": "code",
        "outputId": "85fe9abe-3246-4cb4-9697-12e7c6dc076c",
        "colab": {
          "base_uri": "https://localhost:8080/",
          "height": 351
        }
      },
      "source": [
        "fig = plt.figure(figsize=[15,5]) \n",
        "plt.subplot(121)\n",
        "plt.plot(range(num_epochs),train_loss,'r-',label='Loss') \n",
        "plt.legend(loc='upper right')\n",
        "plt.xlabel('Epochs')\n",
        "plt.ylabel('Training')\n",
        "plt.subplot(122)\n",
        "plt.plot(range(num_epochs),train_acc,'g-',label='Accuracy') \n",
        "plt.legend(loc='upper right')\n",
        "plt.xlabel('Epochs')\n",
        "plt.ylabel('Training')"
      ],
      "execution_count": 7,
      "outputs": [
        {
          "output_type": "execute_result",
          "data": {
            "text/plain": [
              "Text(0, 0.5, 'Training')"
            ]
          },
          "metadata": {
            "tags": []
          },
          "execution_count": 7
        },
        {
          "output_type": "display_data",
          "data": {
            "image/png": "[encoded data removed]",
            "text/plain": [
              "<Figure size 1080x360 with 2 Axes>"
            ]
          },
          "metadata": {
            "tags": []
          }
        }
      ]
    },
    {
      "cell_type": "code",
      "metadata": {
        "id": "Ki4b7Zkqq7UC",
        "colab_type": "code",
        "colab": {
          "base_uri": "https://localhost:8080/",
          "height": 34
        },
        "outputId": "9d11d2c0-d142-46a8-aae8-04c2188fe118"
      },
      "source": [
        "correct_pred = 0\n",
        "for data in testLoader:\n",
        "    inputs,labels = data\n",
        "    if use_gpu:\n",
        "        inputs, labels = inputs.cuda(),labels.cuda()\n",
        "    # Feedforward train data batch through model\n",
        "    output = net(inputs) \n",
        "    # Predicted class is the one with maximum probability\n",
        "    preds = torch.argmax(output,dim=1)\n",
        "    correct_pred += torch.sum(preds==labels)\n",
        "\n",
        "test_accuracy = correct_pred.item()/10000.0\n",
        "print('Testing accuracy = ',test_accuracy*100)"
      ],
      "execution_count": 8,
      "outputs": [
        {
          "output_type": "stream",
          "text": [
            "Testing accuracy =  11.35\n"
          ],
          "name": "stdout"
        }
      ]
    }
  ]
}