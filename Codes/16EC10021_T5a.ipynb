{
  "nbformat": 4,
  "nbformat_minor": 0,
  "metadata": {
    "kernelspec": {
      "name": "python3",
      "display_name": "Python 3"
    },
    "language_info": {
      "codemirror_mode": {
        "name": "ipython",
        "version": 3
      },
      "file_extension": ".py",
      "mimetype": "text/x-python",
      "name": "python",
      "nbconvert_exporter": "python",
      "pygments_lexer": "ipython3",
      "version": "3.6.7"
    },
    "colab": {
      "name": "16EC10021_T5a.ipynb",
      "provenance": []
    },
    "accelerator": "GPU"
  },
  "cells": [
    {
      "cell_type": "markdown",
      "metadata": {
        "id": "LHY5Yy3zdGuE",
        "colab_type": "text"
      },
      "source": [
        "# AI61002_Spr2020\n",
        "#LeNet5 on MNIST with SGD\n",
        "\n"
      ]
    },
    {
      "cell_type": "code",
      "metadata": {
        "id": "toWEhiA9dGuI",
        "colab_type": "code",
        "colab": {}
      },
      "source": [
        "%matplotlib inline\n",
        "import torch\n",
        "import numpy as np\n",
        "import torch.nn as nn\n",
        "import torch.nn.functional as F\n",
        "import matplotlib.pyplot as plt\n",
        "from torchvision import transforms, datasets\n",
        "import torch.optim as optim"
      ],
      "execution_count": 0,
      "outputs": []
    },
    {
      "cell_type": "markdown",
      "metadata": {
        "id": "STHB8-Z-dGuO",
        "colab_type": "text"
      },
      "source": [
        "### Load data"
      ]
    },
    {
      "cell_type": "code",
      "metadata": {
        "id": "qm3HZXgidGuQ",
        "colab_type": "code",
        "colab": {}
      },
      "source": [
        "apply_transform = transforms.Compose([transforms.Resize(32), transforms.ToTensor()])\n",
        "BatchSize = 256 # change according to system specs\n",
        "\n",
        "trainset = datasets.MNIST(root='./MNIST', train=True, download=True, transform=apply_transform)\n",
        "trainLoader = torch.utils.data.DataLoader(trainset, batch_size=BatchSize,\n",
        "                                          shuffle=True, num_workers=4) # Creating dataloader\n",
        "\n",
        "# Validation set with random rotations in the range [-90,90]\n",
        "testset = datasets.MNIST(root='./MNIST', train=False, download=True, transform=apply_transform)\n",
        "testLoader = torch.utils.data.DataLoader(testset, batch_size=BatchSize,\n",
        "                                         shuffle=False, num_workers=4) # Creating dataloader"
      ],
      "execution_count": 0,
      "outputs": []
    },
    {
      "cell_type": "code",
      "metadata": {
        "id": "iq0SVPoEdGuV",
        "colab_type": "code",
        "outputId": "f0498203-6542-4346-838a-8f8a2b8a1a8c",
        "colab": {
          "base_uri": "https://localhost:8080/",
          "height": 51
        }
      },
      "source": [
        "# Size of train and test datasets\n",
        "print('No. of samples in train set: '+str(len(trainLoader.dataset)))\n",
        "print('No. of samples in test set: '+str(len(testLoader.dataset)))"
      ],
      "execution_count": 11,
      "outputs": [
        {
          "output_type": "stream",
          "text": [
            "No. of samples in train set: 60000\n",
            "No. of samples in test set: 10000\n"
          ],
          "name": "stdout"
        }
      ]
    },
    {
      "cell_type": "markdown",
      "metadata": {
        "id": "rNo4ajBpdGub",
        "colab_type": "text"
      },
      "source": [
        "### Define model architecture"
      ]
    },
    {
      "cell_type": "code",
      "metadata": {
        "id": "7AM0e0TudGud",
        "colab_type": "code",
        "colab": {}
      },
      "source": [
        "class LeNet(nn.Module):\n",
        "    def __init__(self):\n",
        "        super(LeNet, self).__init__()\n",
        "        self.conv1 = nn.Conv2d(1, 6, kernel_size=5)\n",
        "        self.pool1 = nn.MaxPool2d(kernel_size=2,stride=2)\n",
        "        self.conv2 = nn.Conv2d(6, 16, kernel_size=5)\n",
        "        self.pool2 = nn.MaxPool2d(kernel_size=2,stride=2)        \n",
        "        self.fc1 = nn.Linear(400, 120)\n",
        "        self.fc2 = nn.Linear(120, 84)\n",
        "        self.fc3 = nn.Linear(84, 10)\n",
        "\n",
        "    def forward(self, x):\n",
        "        x = F.relu(self.conv1(x))\n",
        "        x = self.pool1(x)\n",
        "        x = F.relu(self.conv2(x))\n",
        "        x = self.pool2(x)\n",
        "        x = x.view(-1, 400)\n",
        "        x = F.relu(self.fc1(x)) \n",
        "        x = F.relu(self.fc2(x))\n",
        "        x = self.fc3(x)\n",
        "        return F.log_softmax(x,dim=1)"
      ],
      "execution_count": 0,
      "outputs": []
    },
    {
      "cell_type": "code",
      "metadata": {
        "id": "etuRLxAtdGuj",
        "colab_type": "code",
        "outputId": "a7b50633-8124-4258-b466-728b234f6cd9",
        "colab": {
          "base_uri": "https://localhost:8080/",
          "height": 187
        }
      },
      "source": [
        "use_gpu = torch.cuda.is_available()\n",
        "net = LeNet()\n",
        "print(net)\n",
        "if use_gpu:\n",
        "    print('GPU is available!')\n",
        "    net = net.cuda()"
      ],
      "execution_count": 13,
      "outputs": [
        {
          "output_type": "stream",
          "text": [
            "LeNet(\n",
            "  (conv1): Conv2d(1, 6, kernel_size=(5, 5), stride=(1, 1))\n",
            "  (pool1): MaxPool2d(kernel_size=2, stride=2, padding=0, dilation=1, ceil_mode=False)\n",
            "  (conv2): Conv2d(6, 16, kernel_size=(5, 5), stride=(1, 1))\n",
            "  (pool2): MaxPool2d(kernel_size=2, stride=2, padding=0, dilation=1, ceil_mode=False)\n",
            "  (fc1): Linear(in_features=400, out_features=120, bias=True)\n",
            "  (fc2): Linear(in_features=120, out_features=84, bias=True)\n",
            "  (fc3): Linear(in_features=84, out_features=10, bias=True)\n",
            ")\n",
            "GPU is available!\n"
          ],
          "name": "stdout"
        }
      ]
    },
    {
      "cell_type": "markdown",
      "metadata": {
        "id": "prVyqsNydGup",
        "colab_type": "text"
      },
      "source": [
        "### Train model"
      ]
    },
    {
      "cell_type": "code",
      "metadata": {
        "id": "U-I9fkgZdGuq",
        "colab_type": "code",
        "outputId": "e4fe1ab3-4ccc-49fb-9d63-c89d7a7d3cad",
        "colab": {
          "base_uri": "https://localhost:8080/",
          "height": 867
        }
      },
      "source": [
        "criterion = nn.CrossEntropyLoss()\n",
        "\n",
        "optimizer = optim.SGD(net.parameters(), lr=0.2)\n",
        "learning_rate = 0.1\n",
        "num_epochs = 50\n",
        "\n",
        "train_loss = []\n",
        "train_acc = []\n",
        "for epoch in range(num_epochs):\n",
        "    \n",
        "    running_loss = 0.0 \n",
        "    running_corr = 0\n",
        "        \n",
        "    for i,data in enumerate(trainLoader):\n",
        "        inputs,labels = data\n",
        "        if use_gpu:\n",
        "            inputs, labels = inputs.cuda(),labels.cuda() \n",
        "        # Initializing model gradients to zero\n",
        "        optimizer.zero_grad() \n",
        "        \n",
        "        # Data feed-forward through the network\n",
        "        outputs = net(inputs)\n",
        "        # Predicted class is the one with maximum probability\n",
        "        preds = torch.argmax(outputs,dim=1)\n",
        "        # Finding the loss\n",
        "        loss = criterion(outputs, labels)\n",
        "        # Accumulating the loss for each batch\n",
        "        running_loss += loss \n",
        "        # Accumulate number of correct predictions\n",
        "        running_corr += torch.sum(preds==labels)    \n",
        "        loss.backward()\n",
        "        optimizer.step()\n",
        "        \n",
        "    \n",
        "    # Calculating gradients\n",
        "    \n",
        "    # Updating the model parameters\n",
        "    \n",
        "        \n",
        "    epoch_loss = running_loss.item()/(i+1)   #Total loss for one epoch\n",
        "    epoch_acc = running_corr.item()/60000\n",
        "    \n",
        "    \n",
        "         \n",
        "    train_loss.append(epoch_loss) #Saving the loss over epochs for plotting the graph\n",
        "    train_acc.append(epoch_acc) #Saving the accuracy over epochs for plotting the graph\n",
        "       \n",
        "        \n",
        "    print('Epoch {:.0f}/{:.0f} : Training loss: {:.4f} | Training Accuracy: {:.4f}'.format(epoch+1,num_epochs,epoch_loss,epoch_acc*100))             "
      ],
      "execution_count": 14,
      "outputs": [
        {
          "output_type": "stream",
          "text": [
            "Epoch 1/50 : Training loss: 0.9504 | Training Accuracy: 68.0983\n",
            "Epoch 2/50 : Training loss: 0.1292 | Training Accuracy: 95.8833\n",
            "Epoch 3/50 : Training loss: 0.0845 | Training Accuracy: 97.4117\n",
            "Epoch 4/50 : Training loss: 0.0627 | Training Accuracy: 98.0900\n",
            "Epoch 5/50 : Training loss: 0.0530 | Training Accuracy: 98.2967\n",
            "Epoch 6/50 : Training loss: 0.0432 | Training Accuracy: 98.6550\n",
            "Epoch 7/50 : Training loss: 0.0376 | Training Accuracy: 98.8350\n",
            "Epoch 8/50 : Training loss: 0.0385 | Training Accuracy: 98.7817\n",
            "Epoch 9/50 : Training loss: 0.0293 | Training Accuracy: 99.0833\n",
            "Epoch 10/50 : Training loss: 0.0252 | Training Accuracy: 99.1767\n",
            "Epoch 11/50 : Training loss: 0.0228 | Training Accuracy: 99.2700\n",
            "Epoch 12/50 : Training loss: 0.0217 | Training Accuracy: 99.2967\n",
            "Epoch 13/50 : Training loss: 0.0171 | Training Accuracy: 99.4883\n",
            "Epoch 14/50 : Training loss: 0.0163 | Training Accuracy: 99.4750\n",
            "Epoch 15/50 : Training loss: 0.0148 | Training Accuracy: 99.5300\n",
            "Epoch 16/50 : Training loss: 0.0126 | Training Accuracy: 99.6150\n",
            "Epoch 17/50 : Training loss: 0.0114 | Training Accuracy: 99.6433\n",
            "Epoch 18/50 : Training loss: 0.0101 | Training Accuracy: 99.6667\n",
            "Epoch 19/50 : Training loss: 0.0094 | Training Accuracy: 99.7067\n",
            "Epoch 20/50 : Training loss: 0.0090 | Training Accuracy: 99.7417\n",
            "Epoch 21/50 : Training loss: 0.0069 | Training Accuracy: 99.8017\n",
            "Epoch 22/50 : Training loss: 0.0062 | Training Accuracy: 99.7900\n",
            "Epoch 23/50 : Training loss: 0.0060 | Training Accuracy: 99.8267\n",
            "Epoch 24/50 : Training loss: 0.0061 | Training Accuracy: 99.8050\n",
            "Epoch 25/50 : Training loss: 0.0061 | Training Accuracy: 99.8267\n",
            "Epoch 26/50 : Training loss: 0.0037 | Training Accuracy: 99.9017\n",
            "Epoch 27/50 : Training loss: 0.0041 | Training Accuracy: 99.8633\n",
            "Epoch 28/50 : Training loss: 0.0052 | Training Accuracy: 99.8400\n",
            "Epoch 29/50 : Training loss: 0.0253 | Training Accuracy: 99.4567\n",
            "Epoch 30/50 : Training loss: 0.0048 | Training Accuracy: 99.8517\n",
            "Epoch 31/50 : Training loss: 0.0028 | Training Accuracy: 99.9250\n",
            "Epoch 32/50 : Training loss: 0.0019 | Training Accuracy: 99.9550\n",
            "Epoch 33/50 : Training loss: 0.0013 | Training Accuracy: 99.9717\n",
            "Epoch 34/50 : Training loss: 0.0011 | Training Accuracy: 99.9650\n",
            "Epoch 35/50 : Training loss: 0.0012 | Training Accuracy: 99.9750\n",
            "Epoch 36/50 : Training loss: 0.0009 | Training Accuracy: 99.9800\n",
            "Epoch 37/50 : Training loss: 0.0005 | Training Accuracy: 99.9917\n",
            "Epoch 38/50 : Training loss: 0.0008 | Training Accuracy: 99.9800\n",
            "Epoch 39/50 : Training loss: 0.0005 | Training Accuracy: 99.9933\n",
            "Epoch 40/50 : Training loss: 0.0003 | Training Accuracy: 100.0000\n",
            "Epoch 41/50 : Training loss: 0.0003 | Training Accuracy: 100.0000\n",
            "Epoch 42/50 : Training loss: 0.0002 | Training Accuracy: 99.9983\n",
            "Epoch 43/50 : Training loss: 0.0002 | Training Accuracy: 99.9983\n",
            "Epoch 44/50 : Training loss: 0.0002 | Training Accuracy: 100.0000\n",
            "Epoch 45/50 : Training loss: 0.0002 | Training Accuracy: 100.0000\n",
            "Epoch 46/50 : Training loss: 0.0002 | Training Accuracy: 100.0000\n",
            "Epoch 47/50 : Training loss: 0.0001 | Training Accuracy: 100.0000\n",
            "Epoch 48/50 : Training loss: 0.0001 | Training Accuracy: 100.0000\n",
            "Epoch 49/50 : Training loss: 0.0001 | Training Accuracy: 100.0000\n",
            "Epoch 50/50 : Training loss: 0.0001 | Training Accuracy: 100.0000\n"
          ],
          "name": "stdout"
        }
      ]
    },
    {
      "cell_type": "code",
      "metadata": {
        "id": "RVv3RprndGuw",
        "colab_type": "code",
        "outputId": "cf33b872-55f4-4fd4-8037-00b8b6171aad",
        "colab": {
          "base_uri": "https://localhost:8080/",
          "height": 351
        }
      },
      "source": [
        "fig = plt.figure(figsize=[15,5]) \n",
        "plt.subplot(121)\n",
        "plt.plot(range(num_epochs),train_loss,'r-',label='Loss') \n",
        "plt.legend(loc='upper right')\n",
        "plt.xlabel('Epochs')\n",
        "plt.ylabel('Training')\n",
        "plt.subplot(122)\n",
        "plt.plot(range(num_epochs),train_acc,'g-',label='Accuracy') \n",
        "plt.legend(loc='upper right')\n",
        "plt.xlabel('Epochs')\n",
        "plt.ylabel('Training')"
      ],
      "execution_count": 15,
      "outputs": [
        {
          "output_type": "execute_result",
          "data": {
            "text/plain": [
              "Text(0, 0.5, 'Training')"
            ]
          },
          "metadata": {
            "tags": []
          },
          "execution_count": 15
        },
        {
          "output_type": "display_data",
          "data": {
            "image/png": "[encoded data removed]",
            "text/plain": [
              "<Figure size 1080x360 with 2 Axes>"
            ]
          },
          "metadata": {
            "tags": []
          }
        }
      ]
    },
    {
      "cell_type": "markdown",
      "metadata": {
        "id": "ls8LFkfDdGu0",
        "colab_type": "text"
      },
      "source": [
        "### Evaluation of trained model"
      ]
    },
    {
      "cell_type": "code",
      "metadata": {
        "id": "4tOPY2WVdGu2",
        "colab_type": "code",
        "outputId": "42ebbaef-10b4-45ec-f777-50a4710377b2",
        "colab": {
          "base_uri": "https://localhost:8080/",
          "height": 34
        }
      },
      "source": [
        "correct_pred = 0\n",
        "for data in testLoader:\n",
        "    inputs,labels = data\n",
        "    if use_gpu:\n",
        "        inputs, labels = inputs.cuda(),labels.cuda()\n",
        "    # Feedforward train data batch through model\n",
        "    output = net(inputs) \n",
        "    # Predicted class is the one with maximum probability\n",
        "    preds = torch.argmax(output,dim=1)\n",
        "    correct_pred += torch.sum(preds==labels)\n",
        "\n",
        "test_accuracy = correct_pred.item()/10000.0\n",
        "print('Testing accuracy = ',test_accuracy*100)"
      ],
      "execution_count": 16,
      "outputs": [
        {
          "output_type": "stream",
          "text": [
            "Testing accuracy =  99.11\n"
          ],
          "name": "stdout"
        }
      ]
    },
    {
      "cell_type": "code",
      "metadata": {
        "id": "uckmL6VadGu7",
        "colab_type": "code",
        "colab": {}
      },
      "source": [
        ""
      ],
      "execution_count": 0,
      "outputs": []
    }
  ]
}