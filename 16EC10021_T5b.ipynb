{
  "nbformat": 4,
  "nbformat_minor": 0,
  "metadata": {
    "colab": {
      "name": "16EC10021_T5b",
      "provenance": []
    },
    "kernelspec": {
      "name": "python3",
      "display_name": "Python 3"
    },
    "accelerator": "GPU"
  },
  "cells": [
    {
      "cell_type": "markdown",
      "metadata": {
        "id": "Cx2Yf_MlYCey",
        "colab_type": "text"
      },
      "source": [
        "#LeNet5 on MNIST with Adam\n",
        "###Effect of training loss vs. Batch size for a fixed learning rate\n",
        "###Effect of training loss vs. Learning rate for a fixed Batch size"
      ]
    },
    {
      "cell_type": "code",
      "metadata": {
        "id": "AearOtHyjUEa",
        "colab_type": "code",
        "colab": {}
      },
      "source": [
        "%matplotlib inline\n",
        "import torch\n",
        "import numpy as np\n",
        "import torch.nn as nn\n",
        "import torch.nn.functional as F\n",
        "import matplotlib.pyplot as plt\n",
        "from torchvision import transforms, datasets\n",
        "import torch.optim as optim"
      ],
      "execution_count": 0,
      "outputs": []
    },
    {
      "cell_type": "code",
      "metadata": {
        "id": "sNH8svpgjont",
        "colab_type": "code",
        "colab": {}
      },
      "source": [
        "apply_transform = transforms.Compose([transforms.Resize(32), transforms.ToTensor()])\n",
        "BatchSize = 256 \n",
        "\n",
        "trainset = datasets.MNIST(root='./MNIST', train=True, download=True, transform=apply_transform)\n",
        "trainLoader = torch.utils.data.DataLoader(trainset, batch_size=BatchSize,\n",
        "                                          shuffle=True, num_workers=4) # Creating dataloader\n",
        "\n",
        "# Validation set with random rotations in the range {-90,90}\n",
        "testset = datasets.MNIST(root='./MNIST', train=False, download=True, transform=apply_transform)\n",
        "testLoader = torch.utils.data.DataLoader(testset, batch_size=BatchSize,\n",
        "                                         shuffle=False, num_workers=4) # Creating dataloader"
      ],
      "execution_count": 0,
      "outputs": []
    },
    {
      "cell_type": "code",
      "metadata": {
        "id": "VLTm6r-ajpIR",
        "colab_type": "code",
        "outputId": "6b0456bf-dfff-48d4-bbf8-2a29d98e10cd",
        "colab": {
          "base_uri": "https://localhost:8080/",
          "height": 51
        }
      },
      "source": [
        "# Size of train and test datasets\n",
        "print('No. of samples in train set: '+str(len(trainLoader.dataset)))\n",
        "print('No. of samples in test set: '+str(len(testLoader.dataset)))"
      ],
      "execution_count": 3,
      "outputs": [
        {
          "output_type": "stream",
          "text": [
            "No. of samples in train set: 60000\n",
            "No. of samples in test set: 10000\n"
          ],
          "name": "stdout"
        }
      ]
    },
    {
      "cell_type": "code",
      "metadata": {
        "id": "7s5dGxyHjrWg",
        "colab_type": "code",
        "colab": {}
      },
      "source": [
        "class LeNet(nn.Module):\n",
        "    def __init__(self):\n",
        "        super(LeNet, self).__init__()\n",
        "        self.conv1 = nn.Conv2d(1, 6, kernel_size=5)\n",
        "        self.pool1 = nn.MaxPool2d(kernel_size=2,stride=2)\n",
        "        self.conv2 = nn.Conv2d(6, 16, kernel_size=5)\n",
        "        self.pool2 = nn.MaxPool2d(kernel_size=2,stride=2)        \n",
        "        self.fc1 = nn.Linear(400, 120)\n",
        "        self.fc2 = nn.Linear(120, 84)\n",
        "        self.fc3 = nn.Linear(84, 10)\n",
        "\n",
        "    def forward(self, x):\n",
        "        x = F.relu(self.conv1(x))\n",
        "        x = self.pool1(x)\n",
        "        x = F.relu(self.conv2(x))\n",
        "        x = self.pool2(x)\n",
        "        x = x.view(-1, 400)\n",
        "        x = F.relu(self.fc1(x)) \n",
        "        x = F.relu(self.fc2(x))\n",
        "        x = self.fc3(x)\n",
        "        return F.log_softmax(x,dim=1)"
      ],
      "execution_count": 0,
      "outputs": []
    },
    {
      "cell_type": "code",
      "metadata": {
        "id": "4jzouJxzjuZI",
        "colab_type": "code",
        "outputId": "cd7c81d1-a99d-4692-f7cb-dda18f19d4f1",
        "colab": {
          "base_uri": "https://localhost:8080/",
          "height": 187
        }
      },
      "source": [
        "use_gpu = torch.cuda.is_available()\n",
        "net = LeNet()\n",
        "print(net)\n",
        "if use_gpu:\n",
        "    print('GPU is available!')\n",
        "    net = net.cuda()"
      ],
      "execution_count": 5,
      "outputs": [
        {
          "output_type": "stream",
          "text": [
            "LeNet(\n",
            "  (conv1): Conv2d(1, 6, kernel_size=(5, 5), stride=(1, 1))\n",
            "  (pool1): MaxPool2d(kernel_size=2, stride=2, padding=0, dilation=1, ceil_mode=False)\n",
            "  (conv2): Conv2d(6, 16, kernel_size=(5, 5), stride=(1, 1))\n",
            "  (pool2): MaxPool2d(kernel_size=2, stride=2, padding=0, dilation=1, ceil_mode=False)\n",
            "  (fc1): Linear(in_features=400, out_features=120, bias=True)\n",
            "  (fc2): Linear(in_features=120, out_features=84, bias=True)\n",
            "  (fc3): Linear(in_features=84, out_features=10, bias=True)\n",
            ")\n",
            "GPU is available!\n"
          ],
          "name": "stdout"
        }
      ]
    },
    {
      "cell_type": "code",
      "metadata": {
        "id": "GzG3F9YTjzlY",
        "colab_type": "code",
        "outputId": "29d7bcc2-ce26-4171-84b1-c0ce6267a2bb",
        "colab": {
          "base_uri": "https://localhost:8080/",
          "height": 1000
        }
      },
      "source": [
        "#FIXED LEARNING RATE\n",
        "from cycler import cycler\n",
        "\n",
        "num_epochs = 10\n",
        "BatchSize = 50\n",
        "\n",
        "fig = plt.figure(figsize=[15,5]) \n",
        "\n",
        "for k in range(5):\n",
        "    net = LeNet()\n",
        "    criterion = nn.CrossEntropyLoss()\n",
        "\n",
        "    optimizer = optim.Adam(net.parameters(), lr=0.25)\n",
        "    learning_rate = 0.1\n",
        "    train_loss = []\n",
        "    train_acc = []\n",
        "    \n",
        "    \n",
        "    apply_transform = transforms.Compose([transforms.Resize(32), transforms.ToTensor()])\n",
        "    BatchSize = BatchSize*2 \n",
        "\n",
        "    trainset = datasets.MNIST(root='./MNIST', train=True, download=True, transform=apply_transform)\n",
        "    trainLoader = torch.utils.data.DataLoader(trainset, batch_size=BatchSize,\n",
        "                                          shuffle=True, num_workers=4) # Creating dataloader\n",
        "\n",
        "# Validation set with random rotations in the range [-90,90]\n",
        "    testset = datasets.MNIST(root='./MNIST', train=False, download=True, transform=apply_transform)\n",
        "    testLoader = torch.utils.data.DataLoader(testset, batch_size=BatchSize,\n",
        "                                         shuffle=False, num_workers=4) # Creating dataloader\n",
        "    \n",
        "    for epoch in range(num_epochs):\n",
        "    \n",
        "        running_loss = 0.0 \n",
        "        running_corr = 0\n",
        "        \n",
        "        for i,data in enumerate(trainLoader):\n",
        "            inputs,labels = data\n",
        "            \n",
        "        # Initializing model gradients to zero\n",
        "            optimizer.zero_grad() \n",
        "        # Data feed-forward through the network\n",
        "            outputs = net(inputs)\n",
        "        # Predicted class is the one with maximum probability\n",
        "            preds = torch.argmax(outputs,dim=1)\n",
        "        # Finding the loss\n",
        "            loss = criterion(outputs, labels)\n",
        "        # Accumulating the loss for each batch\n",
        "            running_loss += loss \n",
        "        # Accumulate number of correct predictions\n",
        "            running_corr += torch.sum(preds==labels)    \n",
        "            loss.backward()\n",
        "            optimizer.step()\n",
        "    \n",
        "        # Updating the model parameters\n",
        "        epoch_loss = running_loss.item()/(i+1)   #Total loss for one epoch\n",
        "        epoch_acc = running_corr.item()/60000\n",
        "    \n",
        "        train_loss.append(epoch_loss) \n",
        "        train_acc.append(epoch_acc) \n",
        "        print('Epoch {:.0f}/{:.0f} : Training loss: {:.4f} | Training Accuracy: {:.4f}'.format(epoch+1,num_epochs,epoch_loss,epoch_acc*100))       \n",
        "        \n",
        "    plt.rc('axes', prop_cycle=(cycler('color', ['r', 'g', 'b','c','m','y','k','w'])))\n",
        "    plt.plot(range(num_epochs),train_loss,label='Batchsize ={:.0f}'.format(BatchSize)) \n",
        "    plt.legend(loc='upper right')\n",
        "    plt.xlabel('Epochs')\n",
        "    plt.ylabel('Training')\n",
        "    plt.title(\"Fixed LR= 0.25\")\n",
        "plt.show()\n",
        "        \n"
      ],
      "execution_count": 6,
      "outputs": [
        {
          "output_type": "stream",
          "text": [
            "Epoch 1/10 : Training loss: 24.9128 | Training Accuracy: 10.1867\n",
            "Epoch 2/10 : Training loss: 2.3168 | Training Accuracy: 10.3667\n",
            "Epoch 3/10 : Training loss: 2.3170 | Training Accuracy: 10.1583\n",
            "Epoch 4/10 : Training loss: 2.3173 | Training Accuracy: 10.2750\n",
            "Epoch 5/10 : Training loss: 2.3186 | Training Accuracy: 10.3000\n",
            "Epoch 6/10 : Training loss: 2.3188 | Training Accuracy: 10.3633\n",
            "Epoch 7/10 : Training loss: 2.3168 | Training Accuracy: 10.3817\n",
            "Epoch 8/10 : Training loss: 2.3181 | Training Accuracy: 10.2483\n",
            "Epoch 9/10 : Training loss: 2.3168 | Training Accuracy: 10.2917\n",
            "Epoch 10/10 : Training loss: 2.3173 | Training Accuracy: 10.3817\n",
            "Epoch 1/10 : Training loss: 16.1431 | Training Accuracy: 10.4350\n",
            "Epoch 2/10 : Training loss: 2.3089 | Training Accuracy: 10.3683\n",
            "Epoch 3/10 : Training loss: 2.3106 | Training Accuracy: 10.1417\n",
            "Epoch 4/10 : Training loss: 2.3118 | Training Accuracy: 10.1683\n",
            "Epoch 5/10 : Training loss: 2.3120 | Training Accuracy: 10.4033\n",
            "Epoch 6/10 : Training loss: 2.3124 | Training Accuracy: 10.4300\n",
            "Epoch 7/10 : Training loss: 2.3123 | Training Accuracy: 10.2317\n",
            "Epoch 8/10 : Training loss: 2.3101 | Training Accuracy: 10.3200\n",
            "Epoch 9/10 : Training loss: 2.3110 | Training Accuracy: 10.2617\n",
            "Epoch 10/10 : Training loss: 2.3127 | Training Accuracy: 10.2733\n",
            "Epoch 1/10 : Training loss: 29.1158 | Training Accuracy: 10.3483\n",
            "Epoch 2/10 : Training loss: 2.3054 | Training Accuracy: 10.4683\n",
            "Epoch 3/10 : Training loss: 2.3051 | Training Accuracy: 10.5067\n",
            "Epoch 4/10 : Training loss: 2.3069 | Training Accuracy: 10.4817\n",
            "Epoch 5/10 : Training loss: 2.3067 | Training Accuracy: 10.5133\n",
            "Epoch 6/10 : Training loss: 2.3084 | Training Accuracy: 10.6017\n",
            "Epoch 7/10 : Training loss: 2.3090 | Training Accuracy: 10.2883\n",
            "Epoch 8/10 : Training loss: 2.3074 | Training Accuracy: 10.5633\n",
            "Epoch 9/10 : Training loss: 2.3082 | Training Accuracy: 10.5850\n",
            "Epoch 10/10 : Training loss: 2.3081 | Training Accuracy: 10.2717\n",
            "Epoch 1/10 : Training loss: 17.2113 | Training Accuracy: 10.3950\n",
            "Epoch 2/10 : Training loss: 2.3027 | Training Accuracy: 10.8683\n",
            "Epoch 3/10 : Training loss: 2.3037 | Training Accuracy: 10.6283\n",
            "Epoch 4/10 : Training loss: 2.3036 | Training Accuracy: 10.8900\n",
            "Epoch 5/10 : Training loss: 2.3041 | Training Accuracy: 10.6700\n",
            "Epoch 6/10 : Training loss: 2.3043 | Training Accuracy: 10.5167\n",
            "Epoch 7/10 : Training loss: 2.3045 | Training Accuracy: 10.7000\n",
            "Epoch 8/10 : Training loss: 2.3039 | Training Accuracy: 10.8883\n",
            "Epoch 9/10 : Training loss: 2.3054 | Training Accuracy: 10.5233\n",
            "Epoch 10/10 : Training loss: 2.3059 | Training Accuracy: 10.3750\n",
            "Epoch 1/10 : Training loss: 64.6797 | Training Accuracy: 10.3233\n",
            "Epoch 2/10 : Training loss: 2.3063 | Training Accuracy: 10.5333\n",
            "Epoch 3/10 : Training loss: 2.3039 | Training Accuracy: 10.8667\n",
            "Epoch 4/10 : Training loss: 2.3046 | Training Accuracy: 10.7400\n",
            "Epoch 5/10 : Training loss: 2.3035 | Training Accuracy: 10.9067\n",
            "Epoch 6/10 : Training loss: 2.3028 | Training Accuracy: 10.9467\n",
            "Epoch 7/10 : Training loss: 2.3031 | Training Accuracy: 10.8217\n",
            "Epoch 8/10 : Training loss: 2.3046 | Training Accuracy: 10.8267\n",
            "Epoch 9/10 : Training loss: 2.3028 | Training Accuracy: 10.8600\n",
            "Epoch 10/10 : Training loss: 2.3027 | Training Accuracy: 11.0583\n"
          ],
          "name": "stdout"
        },
        {
          "output_type": "display_data",
          "data": {
            "image/png": "[encoded data removed]",
            "text/plain": [
              "<Figure size 1080x360 with 1 Axes>"
            ]
          },
          "metadata": {
            "tags": []
          }
        }
      ]
    },
    {
      "cell_type": "code",
      "metadata": {
        "id": "K2VD-cwuxeY6",
        "colab_type": "code",
        "outputId": "c0889028-9329-4be3-e529-c871076bb9bb",
        "colab": {
          "base_uri": "https://localhost:8080/",
          "height": 1000
        }
      },
      "source": [
        "#FIXED BATCH SIZE\n",
        "\n",
        "from cycler import cycler\n",
        "\n",
        "num_epochs = 10\n",
        "BatchSize = 100\n",
        "learn = 0.05\n",
        "fig = plt.figure(figsize=[15,5]) \n",
        "\n",
        "for k in range(5):\n",
        "    net = LeNet()\n",
        "    criterion = nn.CrossEntropyLoss()\n",
        "\n",
        "    optimizer = optim.Adam(net.parameters(), lr=learn)\n",
        "    learn = learn + 0.05\n",
        "    learning_rate = 0.1\n",
        "    train_loss = []\n",
        "    train_acc = []\n",
        "    \n",
        "    \n",
        "    apply_transform = transforms.Compose([transforms.Resize(32), transforms.ToTensor()])\n",
        "     # change according to system specs\n",
        "\n",
        "    trainset = datasets.MNIST(root='./MNIST', train=True, download=True, transform=apply_transform)\n",
        "    trainLoader = torch.utils.data.DataLoader(trainset, batch_size=BatchSize,\n",
        "                                          shuffle=True, num_workers=4) # Creating dataloader\n",
        "\n",
        "# Validation set with random rotations in the range [-90,90]\n",
        "    testset = datasets.MNIST(root='./MNIST', train=False, download=True, transform=apply_transform)\n",
        "    testLoader = torch.utils.data.DataLoader(testset, batch_size=BatchSize,\n",
        "                                         shuffle=False, num_workers=4) # Creating dataloader\n",
        "    \n",
        "    for epoch in range(num_epochs):\n",
        "    \n",
        "        running_loss = 0.0 \n",
        "        running_corr = 0\n",
        "        \n",
        "        for i,data in enumerate(trainLoader):\n",
        "            inputs,labels = data\n",
        "\n",
        "        # Initializing model gradients to zero\n",
        "            optimizer.zero_grad() \n",
        "        \n",
        "        # Data feed-forward through the network\n",
        "            outputs = net(inputs)\n",
        "        # Predicted class is the one with maximum probability\n",
        "            preds = torch.argmax(outputs,dim=1)\n",
        "        # Finding the loss\n",
        "            loss = criterion(outputs, labels)\n",
        "        # Accumulating the loss for each batch\n",
        "            running_loss += loss \n",
        "        # Accumulate number of correct predictions\n",
        "            running_corr += torch.sum(preds==labels)    \n",
        "            loss.backward()\n",
        "            optimizer.step()\n",
        "        \n",
        "    \n",
        "    # Calculating gradients\n",
        "    \n",
        "    # Updating the model parameters\n",
        "    \n",
        "        \n",
        "        epoch_loss = running_loss.item()/(i+1)   #Total loss for one epoch\n",
        "        epoch_acc = running_corr.item()/60000\n",
        "\n",
        "        train_loss.append(epoch_loss) \n",
        "        train_acc.append(epoch_acc) \n",
        "        print('Epoch {:.0f}/{:.0f} : Training loss: {:.4f} | Training Accuracy: {:.4f}'.format(epoch+1,num_epochs,epoch_loss,epoch_acc*100))       \n",
        "        \n",
        "    plt.rc('axes', prop_cycle=(cycler('color', ['r', 'g', 'b','c','m','y','k','w'])))\n",
        "    plt.plot(range(num_epochs),train_loss,label='LR ={:.000f}'.format(learn)) \n",
        "    plt.legend(loc='upper right')\n",
        "    plt.xlabel('Epochs')\n",
        "    plt.ylabel('Training loss')\n",
        "    plt.title(\"Fixed batchsize = 100\")\n",
        "plt.show()\n"
      ],
      "execution_count": 7,
      "outputs": [
        {
          "output_type": "stream",
          "text": [
            "Epoch 1/10 : Training loss: 2.3281 | Training Accuracy: 10.7200\n",
            "Epoch 2/10 : Training loss: 2.3045 | Training Accuracy: 10.6000\n",
            "Epoch 3/10 : Training loss: 2.3048 | Training Accuracy: 10.4650\n",
            "Epoch 4/10 : Training loss: 2.3047 | Training Accuracy: 10.6150\n",
            "Epoch 5/10 : Training loss: 2.3047 | Training Accuracy: 10.6600\n",
            "Epoch 6/10 : Training loss: 2.3047 | Training Accuracy: 10.7283\n",
            "Epoch 7/10 : Training loss: 2.3047 | Training Accuracy: 10.5283\n",
            "Epoch 8/10 : Training loss: 2.3047 | Training Accuracy: 10.5767\n",
            "Epoch 9/10 : Training loss: 2.3050 | Training Accuracy: 10.7200\n",
            "Epoch 10/10 : Training loss: 2.3053 | Training Accuracy: 10.5850\n",
            "Epoch 1/10 : Training loss: 2.4462 | Training Accuracy: 10.3400\n",
            "Epoch 2/10 : Training loss: 2.3080 | Training Accuracy: 10.6100\n",
            "Epoch 3/10 : Training loss: 2.3082 | Training Accuracy: 10.3717\n",
            "Epoch 4/10 : Training loss: 2.3079 | Training Accuracy: 10.4633\n",
            "Epoch 5/10 : Training loss: 2.3077 | Training Accuracy: 10.4750\n",
            "Epoch 6/10 : Training loss: 2.3083 | Training Accuracy: 10.4067\n",
            "Epoch 7/10 : Training loss: 2.3072 | Training Accuracy: 10.5533\n",
            "Epoch 8/10 : Training loss: 2.3088 | Training Accuracy: 10.4000\n",
            "Epoch 9/10 : Training loss: 2.3081 | Training Accuracy: 10.3967\n",
            "Epoch 10/10 : Training loss: 2.3087 | Training Accuracy: 10.3600\n",
            "Epoch 1/10 : Training loss: 3.8515 | Training Accuracy: 10.3817\n",
            "Epoch 2/10 : Training loss: 2.3117 | Training Accuracy: 10.2100\n",
            "Epoch 3/10 : Training loss: 2.3112 | Training Accuracy: 10.2117\n",
            "Epoch 4/10 : Training loss: 2.3113 | Training Accuracy: 10.3783\n",
            "Epoch 5/10 : Training loss: 2.3115 | Training Accuracy: 10.2683\n",
            "Epoch 6/10 : Training loss: 2.3125 | Training Accuracy: 10.2883\n",
            "Epoch 7/10 : Training loss: 2.3120 | Training Accuracy: 10.2617\n",
            "Epoch 8/10 : Training loss: 2.3124 | Training Accuracy: 10.4200\n",
            "Epoch 9/10 : Training loss: 2.3112 | Training Accuracy: 10.3733\n",
            "Epoch 10/10 : Training loss: 2.3123 | Training Accuracy: 10.4417\n",
            "Epoch 1/10 : Training loss: 8.2826 | Training Accuracy: 10.2517\n",
            "Epoch 2/10 : Training loss: 2.3144 | Training Accuracy: 10.4300\n",
            "Epoch 3/10 : Training loss: 2.3142 | Training Accuracy: 10.4400\n",
            "Epoch 4/10 : Training loss: 2.3143 | Training Accuracy: 10.5367\n",
            "Epoch 5/10 : Training loss: 2.3147 | Training Accuracy: 10.1350\n",
            "Epoch 6/10 : Training loss: 2.3140 | Training Accuracy: 10.2900\n",
            "Epoch 7/10 : Training loss: 2.3145 | Training Accuracy: 10.4117\n",
            "Epoch 8/10 : Training loss: 2.3137 | Training Accuracy: 10.3267\n",
            "Epoch 9/10 : Training loss: 2.3153 | Training Accuracy: 10.2517\n",
            "Epoch 10/10 : Training loss: 2.3137 | Training Accuracy: 10.3867\n",
            "Epoch 1/10 : Training loss: 62.7416 | Training Accuracy: 10.3533\n",
            "Epoch 2/10 : Training loss: 2.3173 | Training Accuracy: 10.3050\n",
            "Epoch 3/10 : Training loss: 2.3174 | Training Accuracy: 10.4583\n",
            "Epoch 4/10 : Training loss: 2.3167 | Training Accuracy: 10.3417\n",
            "Epoch 5/10 : Training loss: 2.3185 | Training Accuracy: 10.2817\n",
            "Epoch 6/10 : Training loss: 2.3174 | Training Accuracy: 10.3883\n",
            "Epoch 7/10 : Training loss: 2.3181 | Training Accuracy: 10.1133\n",
            "Epoch 8/10 : Training loss: 2.3196 | Training Accuracy: 10.0217\n",
            "Epoch 9/10 : Training loss: 2.3150 | Training Accuracy: 10.3267\n",
            "Epoch 10/10 : Training loss: 2.3173 | Training Accuracy: 10.3400\n"
          ],
          "name": "stdout"
        },
        {
          "output_type": "display_data",
          "data": {
            "image/png": "[encoded data removed]",
            "text/plain": [
              "<Figure size 1080x360 with 1 Axes>"
            ]
          },
          "metadata": {
            "tags": []
          }
        }
      ]
    },
    {
      "cell_type": "code",
      "metadata": {
        "id": "7JPLL_8DQCLr",
        "colab_type": "code",
        "colab": {}
      },
      "source": [
        ""
      ],
      "execution_count": 0,
      "outputs": []
    }
  ]
}